{
 "cells": [
  {
   "cell_type": "code",
   "execution_count": 1,
   "metadata": {},
   "outputs": [],
   "source": [
    "%matplotlib inline\n",
    "import os,sys,random\n",
    "\n",
    "from parabola import ParabolicRegion as Parabola\n",
    "import numpy as np\n",
    "import matplotlib\n",
    "import matplotlib.pyplot as plt\n",
    "import pandas as pd\n",
    "from igmm import IGMM, DynamicParameter\n",
    "import time"
   ]
  },
  {
   "cell_type": "code",
   "execution_count": 2,
   "metadata": {},
   "outputs": [],
   "source": [
    "def get_random_motor_set(system, n_samples):\n",
    "    n_motor = system.n_motor\n",
    "    raw_rnd_data = np.random.random((n_samples, n_motor))\n",
    "\n",
    "    min_values = system.min_motor_values\n",
    "    max_values = system.max_motor_values\n",
    "\n",
    "    min_values = np.array(n_samples * [np.array(min_values)])\n",
    "    max_values = np.array(n_samples * [np.array(max_values)])\n",
    "    motor_commands = min_values + raw_rnd_data * (max_values - min_values)\n",
    "    return motor_commands\n",
    "\n",
    "def load_h5(file_name, system=None):\n",
    "    # Keeping support to old datamanager files\n",
    "    motor = pd.read_hdf(file_name, 'motor').as_matrix()\n",
    "    sensor = pd.read_hdf(file_name, 'sensor').as_matrix()\n",
    "    return motor, sensor\n",
    "\n",
    "def evaluate_model(system, model, sensor_evaluation, axes=None):\n",
    "    if axes is not None:\n",
    "        plt.sca(axes)\n",
    "    n_samples = sensor_evaluation.shape[0]\n",
    "    x_dims = range(system.n_motor)\n",
    "    y_dims = range(system.n_motor,system.n_motor+system.n_sensor)\n",
    "    total_norm_error = 0.\n",
    "    for i in range(n_samples):\n",
    "        action = model.infer(x_dims,\n",
    "                             y_dims,\n",
    "                            sensor_evaluation[i,:])\n",
    "        system.set_action(action)\n",
    "        system.executeMotorCommand()\n",
    "        if axes is not None:\n",
    "            plt.scatter(sensor_evaluation[i,0],sensor_evaluation[i,1], marker = 'o', s = 3., color = 'b')\n",
    "            plt.scatter(system.sensor_out[0],system.sensor_out[1],marker = 'x', s = 12., color = 'r')\n",
    "        total_norm_error += np.linalg.norm(sensor_evaluation[i,:]-system.sensor_out)\n",
    "    return total_norm_error/float(n_samples)"
   ]
  },
  {
   "cell_type": "code",
   "execution_count": 3,
   "metadata": {},
   "outputs": [],
   "source": [
    "batch_size = 20\n",
    "n_batches = 30\n",
    "\n",
    "np.random.seed(123)"
   ]
  },
  {
   "cell_type": "code",
   "execution_count": 4,
   "metadata": {
    "scrolled": false
   },
   "outputs": [
    {
     "name": "stdout",
     "output_type": "stream",
     "text": [
      "--- 1809.13100004 seconds ---\n"
     ]
    }
   ],
   "source": [
    "start_time = time.time()\n",
    "\n",
    "n_models = 50\n",
    "\n",
    "motor_evaluation, sensor_evaluation = load_h5('../parabola_v2_dataset.h5')\n",
    "motor_data = {}\n",
    "sensor_data = {}\n",
    "system = Parabola()\n",
    "for i in range(n_models):\n",
    "    motor_data.update({i: get_random_motor_set(system, batch_size*n_batches)})\n",
    "    sensor_data_tmp = np.zeros((batch_size*n_batches,system.n_sensor))\n",
    "    for j in range( batch_size*n_batches):\n",
    "            system.set_action(motor_data[i][j,:])\n",
    "            system.executeMotorCommand()\n",
    "            sensor_data_tmp[j,:] = system.sensor_out\n",
    "    sensor_data.update({i: sensor_data_tmp})\n",
    "\n",
    "evols = []\n",
    "for  ii in range(n_models):\n",
    "    ### System and Model\n",
    "    system = Parabola()\n",
    "    forgetting_factor = DynamicParameter(**{'function':'log',\n",
    "                                                   'init':0.2,\n",
    "                                                   'end':0.01,\n",
    "                                                   'steps':n_batches})\n",
    "    model = IGMM(min_components=3,\n",
    "                 max_step_components=7,\n",
    "                 max_components=20,\n",
    "                 forgetting_factor=forgetting_factor)\n",
    "\n",
    "    ### Train\n",
    "    eval_evo = np.zeros((n_batches,))\n",
    "\n",
    "    for i in range(n_batches):\n",
    "        train_data = np.concatenate((motor_data[ii][i*batch_size:(i+1)*batch_size,:],\n",
    "                                  sensor_data[ii][i*batch_size:(i+1)*batch_size,:]), axis=1)\n",
    "        model.train(train_data)\n",
    "        eval_evo[i] = evaluate_model(system, model, sensor_evaluation)\n",
    "    evols += [eval_evo]\n",
    "print(\"--- %s seconds ---\" % (time.time() - start_time))\n"
   ]
  },
  {
   "cell_type": "code",
   "execution_count": 9,
   "metadata": {},
   "outputs": [
    {
     "data": {
      "text/plain": [
       "[<matplotlib.lines.Line2D at 0x21835e48>]"
      ]
     },
     "execution_count": 9,
     "metadata": {},
     "output_type": "execute_result"
    },
    {
     "data": {
      "image/png": "[encoded data removed]",
      "text/plain": [
       "<matplotlib.figure.Figure at 0x21702128>"
      ]
     },
     "metadata": {},
     "output_type": "display_data"
    }
   ],
   "source": [
    "error = np.array(evols)\n",
    "av_mean_error = np.mean(error, axis=0)\n",
    "plt.plot(av_mean_error)"
   ]
  },
  {
   "cell_type": "code",
   "execution_count": 12,
   "metadata": {},
   "outputs": [
    {
     "name": "stdout",
     "output_type": "stream",
     "text": [
      "[ 1.36501995  0.78606258  0.61787413  0.48268982  0.40839655  0.33452187\n",
      "  0.26966051  0.26932038  0.25715926  0.24375601  0.24429939  0.25481731\n",
      "  0.24247702  0.24015722  0.23579049  0.23299713  0.23005647  0.22914791\n",
      "  0.23073691  0.23046387  0.22364542  0.2241549   0.220595    0.2188488\n",
      "  0.2145608   0.21080218  0.21013382  0.21142541  0.20891375  0.21094789]\n"
     ]
    },
    {
     "data": {
      "image/png": "[encoded data removed]",
      "text/plain": [
       "<matplotlib.figure.Figure at 0x21a8c2b0>"
      ]
     },
     "metadata": {},
     "output_type": "display_data"
    }
   ],
   "source": [
    "error = np.array(evols)\n",
    "av_mean_error = np.mean(error, axis=0)\n",
    "plt.plot(av_mean_error)\n",
    "print av_mean_error"
   ]
  },
  {
   "cell_type": "code",
   "execution_count": 7,
   "metadata": {},
   "outputs": [],
   "source": [
    "# fig1.savefig('/home/yumilceh/Dropbox/Aplicaciones/ShareLaTeX/2017 CCIA Regression Problem with IGMM/images/reg.eps',\\\n",
    "#             format='eps', dpi=1000, transparent=True, bbox_extra_artists=(lgd,), bbox_inches='tight')"
   ]
  },
  {
   "cell_type": "code",
   "execution_count": null,
   "metadata": {},
   "outputs": [],
   "source": []
  },
  {
   "cell_type": "code",
   "execution_count": 8,
   "metadata": {},
   "outputs": [
    {
     "ename": "SyntaxError",
     "evalue": "invalid syntax (<ipython-input-8-6678aa0a6371>, line 5)",
     "output_type": "error",
     "traceback": [
      "\u001b[1;36m  File \u001b[1;32m\"<ipython-input-8-6678aa0a6371>\"\u001b[1;36m, line \u001b[1;32m5\u001b[0m\n\u001b[1;33m    [ 1.80463534  0.99558548  0.77154369  0.57619111  0.44238031  0.38391999\u001b[0m\n\u001b[1;37m                           ^\u001b[0m\n\u001b[1;31mSyntaxError\u001b[0m\u001b[1;31m:\u001b[0m invalid syntax\n"
     ]
    }
   ],
   "source": [
    "batch_size = 15\n",
    "n_batches = 40\n",
    "\n",
    "\n",
    "[ 1.80463534  0.99558548  0.77154369  0.57619111  0.44238031  0.38391999\n",
    "  0.31056466  0.27287746  0.2599877   0.24342677  0.22859661  0.2227161\n",
    "  0.21750711  0.21347064  0.21038367  0.20304425  0.20590295  0.19780321\n",
    "  0.19791444  0.19706652  0.19487253  0.19383922  0.19242601  0.18783428\n",
    "  0.18909161  0.18828319  0.18310875  0.18612583  0.18920706  0.19335964\n",
    "  0.19372064  0.19379133  0.19263216  0.19290289  0.19048273  0.19170222\n",
    "  0.1890779   0.18796091  0.18312176  0.18231367]"
   ]
  },
  {
   "cell_type": "code",
   "execution_count": null,
   "metadata": {},
   "outputs": [],
   "source": [
    "batch_size = 20\n",
    "n_batches = 30\n",
    "\n",
    "[ 1.36501995  0.78606258  0.61787413  0.48268982  0.40839655  0.33452187\n",
    "  0.26966051  0.26932038  0.25715926  0.24375601  0.24429939  0.25481731\n",
    "  0.24247702  0.24015722  0.23579049  0.23299713  0.23005647  0.22914791\n",
    "  0.23073691  0.23046387  0.22364542  0.2241549   0.220595    0.2188488\n",
    "  0.2145608   0.21080218  0.21013382  0.21142541  0.20891375  0.21094789]"
   ]
  }
 ],
 "metadata": {
  "kernelspec": {
   "display_name": "Python 2",
   "language": "python",
   "name": "python2"
  },
  "language_info": {
   "codemirror_mode": {
    "name": "ipython",
    "version": 2
   },
   "file_extension": ".py",
   "mimetype": "text/x-python",
   "name": "python",
   "nbconvert_exporter": "python",
   "pygments_lexer": "ipython2",
   "version": "2.7.14"
  }
 },
 "nbformat": 4,
 "nbformat_minor": 2
}
