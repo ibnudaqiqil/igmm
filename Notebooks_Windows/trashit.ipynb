{
 "cells": [
  {
   "cell_type": "code",
   "execution_count": 1,
   "metadata": {},
   "outputs": [
    {
     "name": "stdout",
     "output_type": "stream",
     "text": [
      "A = [[-4. -5. -2.]\n",
      " [ 1.  0.  0.]\n",
      " [ 0.  1.  0.]]\n",
      "\n",
      "B = [[ 1.]\n",
      " [ 0.]\n",
      " [ 0.]]\n",
      "\n",
      "C = [[-7. -9. -2.]]\n",
      "\n",
      "D = [[ 2.]]\n",
      "\n"
     ]
    }
   ],
   "source": [
    "import control\n",
    "import numpy as np\n",
    "\n",
    "num = [2,1,1,2]\n",
    "den = [1,4,5,2]\n",
    "sys = control.tf(num,den)\n",
    "print control.tf2ss(sys)"
   ]
  },
  {
   "cell_type": "code",
   "execution_count": 4,
   "metadata": {},
   "outputs": [
    {
     "name": "stdout",
     "output_type": "stream",
     "text": [
      "A = [[-4. -5. -2.]\n",
      " [ 1.  0.  0.]\n",
      " [ 0.  1.  0.]]\n",
      "\n",
      "B = [[ 1.]\n",
      " [ 0.]\n",
      " [ 0.]]\n",
      "\n",
      "C = [[-7. -9. -2.]]\n",
      "\n",
      "D = [[ 2.]]\n",
      "\n"
     ]
    }
   ],
   "source": [
    "num = [2,1,1,2]\n",
    "den = [1,4,5,2]\n",
    "sys = control.tf2ss(num,den)\n",
    "print (sys)"
   ]
  },
  {
   "cell_type": "code",
   "execution_count": null,
   "metadata": {},
   "outputs": [],
   "source": []
  }
 ],
 "metadata": {
  "kernelspec": {
   "display_name": "Python 2",
   "language": "python",
   "name": "python2"
  },
  "language_info": {
   "codemirror_mode": {
    "name": "ipython",
    "version": 2
   },
   "file_extension": ".py",
   "mimetype": "text/x-python",
   "name": "python",
   "nbconvert_exporter": "python",
   "pygments_lexer": "ipython2",
   "version": "2.7.14"
  }
 },
 "nbformat": 4,
 "nbformat_minor": 2
}
